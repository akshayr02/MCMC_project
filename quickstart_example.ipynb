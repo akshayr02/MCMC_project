{
 "cells": [
  {
   "cell_type": "markdown",
   "id": "b37ee85b",
   "metadata": {},
   "source": [
    "### Quickstart Example"
   ]
  },
  {
   "cell_type": "markdown",
   "id": "8f961b80",
   "metadata": {},
   "source": [
    "https://emcee.readthedocs.io/en/stable/tutorials/quickstart/"
   ]
  },
  {
   "cell_type": "code",
   "execution_count": 5,
   "id": "455b10cc",
   "metadata": {},
   "outputs": [],
   "source": [
    "import numpy as np\n",
    "import emcee\n",
    "import matplotlib.pyplot as plt"
   ]
  },
  {
   "cell_type": "code",
   "execution_count": null,
   "id": "6e0555bf",
   "metadata": {},
   "outputs": [],
   "source": [
    "# Define the multivariate Gaussian density\n",
    "\n",
    "def log_prob(x, mu, cov):\n",
    "    diff = x - mu\n",
    "    return -0.5 * np.dot(diff, np.linalg.solve(cov, diff))"
   ]
  },
  {
   "cell_type": "code",
   "execution_count": null,
   "id": "7e87271e",
   "metadata": {},
   "outputs": [],
   "source": [
    "# Specify the values of the mean and the covariance matrix\n",
    "\n",
    "ndim = 5\n",
    "\n",
    "np.random.seed(42)\n",
    "means = np.random.rand(ndim)\n",
    "\n",
    "cov = 0.5 - np.random.rand(ndim**2).reshape((ndim, ndim))\n",
    "cov = np.triu(cov)\n",
    "cov += cov.T - np.diag(cov.diagonal())\n",
    "cov = np.dot(cov, cov)\n",
    "\n",
    "# Define 32 walkers (32-by-5 array) with a random number between 0 and 1 for each component \n",
    "nwalkers = 32\n",
    "p0 = np.random.rand(nwalkers, ndim)"
   ]
  },
  {
   "cell_type": "code",
   "execution_count": 6,
   "id": "0d2ff4d4",
   "metadata": {},
   "outputs": [
    {
     "data": {
      "image/png": "[encoded data removed]",
      "text/plain": [
       "<Figure size 640x480 with 1 Axes>"
      ]
     },
     "metadata": {},
     "output_type": "display_data"
    }
   ],
   "source": [
    "# Define the EnsembleSampler object\n",
    "sampler = emcee.EnsembleSampler(nwalkers, ndim, log_prob, args=[means, cov])\n",
    "\n",
    "# Run 100 \"burn-in\" steps\n",
    "state = sampler.run_mcmc(p0, 100)\n",
    "sampler.reset()\n",
    "\n",
    "# Perform 1000 steps\n",
    "sampler.run_mcmc(state, 10000)\n",
    "\n",
    "# Plot the estimated density\n",
    "samples = sampler.get_chain(flat=True)\n",
    "plt.hist(samples[:, 0], 100, color=\"k\", histtype=\"step\")\n",
    "plt.xlabel(r\"$\\theta_1$\")\n",
    "plt.ylabel(r\"$p(\\theta_1)$\")\n",
    "plt.gca().set_yticks([]);"
   ]
  },
  {
   "cell_type": "code",
   "execution_count": 7,
   "id": "3f60e9a8",
   "metadata": {},
   "outputs": [
    {
     "name": "stdout",
     "output_type": "stream",
     "text": [
      "Mean acceptance fraction: 0.552\n",
      "Mean autocorrelation time: 57.112 steps\n"
     ]
    }
   ],
   "source": [
    "print(\n",
    "    \"Mean acceptance fraction: {0:.3f}\".format(\n",
    "        np.mean(sampler.acceptance_fraction)\n",
    "    )\n",
    ")\n",
    "\n",
    "print(\n",
    "    \"Mean autocorrelation time: {0:.3f} steps\".format(\n",
    "        np.mean(sampler.get_autocorr_time())\n",
    "    )\n",
    ")"
   ]
  }
 ],
 "metadata": {
  "kernelspec": {
   "display_name": "Python 3 (ipykernel)",
   "language": "python",
   "name": "python3"
  },
  "language_info": {
   "codemirror_mode": {
    "name": "ipython",
    "version": 3
   },
   "file_extension": ".py",
   "mimetype": "text/x-python",
   "name": "python",
   "nbconvert_exporter": "python",
   "pygments_lexer": "ipython3",
   "version": "3.12.2"
  }
 },
 "nbformat": 4,
 "nbformat_minor": 5
}
